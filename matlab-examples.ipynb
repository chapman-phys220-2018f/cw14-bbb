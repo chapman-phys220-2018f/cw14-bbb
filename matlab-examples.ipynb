{
 "cells": [
  {
   "cell_type": "markdown",
   "metadata": {},
   "source": [
    "# Examples : MATLAB / Octave\n",
    "\n",
    "This notebook is intended as a brief introduction to the industry standard programming language MATLAB (MATrix LABoratory). While much of science is rapidly converging to use python as an open-source (and free) language that is sufficiently powerful for most scientific computing tasks, many still use MATLAB since it is older and more established. Many also still use C++, C, and even FORTRAN for scientific computing, but those languages are beyond the scope of this introductory course.\n",
    "\n",
    "The main goal of introducing you to MATLAB at this stage of the course is to demonstrate that it is simple to learn once you already have a good understanding of how `numpy` arrays work. Most of the skills from learning python are directly transferrable with only slight modifications. The main restriction of MATLAB compared to python is that complex code organization, like classes or nested functions, are not allowed in MATLAB: only simple functions should be used to organize your code most of the time.\n",
    "\n",
    "The core philosophy of MATLAB is simple:\n",
    " - Numbers are ints, floats, or complex numbers (e.g., numbers of the form ($a + i b$) where $a$ and $b$ are floats and i is the imaginary unit such that $i^2 = -1$), and autoconvert between numeric types automatically.\n",
    " - Everything else is a matrix of numbers.\n",
    " - All computation should be done with clever uses of matrix products.\n",
    " - Matrices should be indexed starting at 1, not 0. Similarly, the last index should be 'end', not -1.\n",
    "\n",
    "While the modern MATLAB language adds many new features (like classes), almost all MATLAB code in practice that is effective and efficient follows the above philosophy.\n",
    "\n",
    "On top of this philosophy, there are only two organizational rules:\n",
    " - Each function should be defined in a separate file with extension .m\n",
    " - A script also has extension .m, and should run the user-defined functions the same way as MATLAB-defined functions.\n",
    "\n",
    "Below we will demonstrate these features within Jupyter first by using a free clone of MATLAB known as Octave. (Notice that the kernel of this notebook in the upper-right corner has been changed to Octave.) Octave is useful for showing MATLAB syntax, but is much much slower than MATLAB when executing code. If possible, you should use MATLAB rather than Octave for real computational work."
   ]
  },
  {
   "cell_type": "markdown",
   "metadata": {},
   "source": [
    "## Derivative Matrix Example"
   ]
  },
  {
   "cell_type": "code",
   "execution_count": 1,
   "metadata": {},
   "outputs": [
    {
     "name": "stdout",
     "output_type": "stream",
     "text": [
      "d =\n",
      "\n",
      "  -1.00000   1.00000   0.00000   0.00000   0.00000\n",
      "  -0.50000   0.00000   0.50000   0.00000   0.00000\n",
      "   0.00000  -0.50000   0.00000   0.50000   0.00000\n",
      "   0.00000   0.00000  -0.50000   0.00000   0.50000\n",
      "   0.00000   0.00000   0.00000  -1.00000   1.00000\n",
      "\n"
     ]
    }
   ],
   "source": [
    "# Note: Comments in Octave are hashes, like in Python.  Comments in MATLAB are percent signs %\n",
    "\n",
    "n = 5;                        # Set n to 5, semicolon suppresses output (otherwise all output is printed)\n",
    "d = zeros(n,n);               # nxn matrix of zeros\n",
    "d(2:end,1:end-1) = -eye(n-1); # Set lower off-diagonal to -1 using (n-1)x(n-1) identity matrix\n",
    "d(1:end-1,2:end) = d(1:end-1,2:end) + eye(n-1); # Set upper off-diagonal to +1 using (n-1)x(n-1) identity matrix\n",
    "d = d ./ 2;                   # Divide all elements of e by 2\n",
    "d(1,1) = -1;\n",
    "d(end,end-1) = -1;            # Set multiple matrix elements to -1. Note (row, column) convention.\n",
    "d(end,end) = 1;\n",
    "d(1,2) = 1                    # Set multiple matrix elements to +1. Do not suppress output."
   ]
  },
  {
   "cell_type": "code",
   "execution_count": 2,
   "metadata": {},
   "outputs": [],
   "source": [
    "# Function version of above: normally this must be put in a file \"derivative.m\" with nothing else in the file\n",
    "function returnvalue = derivative(a, b, n)\n",
    "  dx = (b-a)/(n-1);             # Define the step dx from the provided arguments\n",
    "  d = zeros(n,n);               # nxn matrix of zeros\n",
    "  d(2:end,1:end-1) = -eye(n-1); # Set lower off-diagonal to -1 using (n-1)x(n-1) identity matrix\n",
    "  d(1:end-1,2:end) = d(1:end-1,2:end) + eye(n-1); # Set upper off-diagonal to +1 using (n-1)x(n-1) identity matrix\n",
    "  d = d ./ 2;                   # Divide all elements of d by 2\n",
    "  d(1,1) = -1;\n",
    "  d(end,end-1) = -1;            # Set multiple matrix elements to -1. Note (row, column) convention.\n",
    "  d(end,end) = 1;\n",
    "  d(1,2) = 1;                   # Set multiple matrix elements to +1. Do not suppress output.\n",
    "  returnvalue = d ./ dx;        # Divide all elements of d by dx\n",
    "end\n",
    "\n",
    "# Note the syntax for a function:\n",
    "\n",
    "# function retval = funcname(argnames)\n",
    "#   (body of funcname here)\n",
    "# end\n",
    "\n",
    "# Inside the function, the variable retval must be defined, which will be the returned value of the function"
   ]
  },
  {
   "cell_type": "code",
   "execution_count": 3,
   "metadata": {},
   "outputs": [
    {
     "name": "stdout",
     "output_type": "stream",
     "text": [
      "d =\n",
      "\n",
      "  -1.00000   1.00000   0.00000   0.00000   0.00000\n",
      "  -0.50000   0.00000   0.50000   0.00000   0.00000\n",
      "   0.00000  -0.50000   0.00000   0.50000   0.00000\n",
      "   0.00000   0.00000  -0.50000   0.00000   0.50000\n",
      "   0.00000   0.00000   0.00000  -1.00000   1.00000\n",
      "\n"
     ]
    }
   ],
   "source": [
    "d = derivative(0,4,5)"
   ]
  },
  {
   "cell_type": "code",
   "execution_count": 4,
   "metadata": {},
   "outputs": [
    {
     "name": "stdout",
     "output_type": "stream",
     "text": [
      "d =\n",
      "\n",
      "  -1.75000   1.75000   0.00000   0.00000   0.00000   0.00000   0.00000   0.00000\n",
      "  -0.87500   0.00000   0.87500   0.00000   0.00000   0.00000   0.00000   0.00000\n",
      "   0.00000  -0.87500   0.00000   0.87500   0.00000   0.00000   0.00000   0.00000\n",
      "   0.00000   0.00000  -0.87500   0.00000   0.87500   0.00000   0.00000   0.00000\n",
      "   0.00000   0.00000   0.00000  -0.87500   0.00000   0.87500   0.00000   0.00000\n",
      "   0.00000   0.00000   0.00000   0.00000  -0.87500   0.00000   0.87500   0.00000\n",
      "   0.00000   0.00000   0.00000   0.00000   0.00000  -0.87500   0.00000   0.87500\n",
      "   0.00000   0.00000   0.00000   0.00000   0.00000   0.00000  -1.75000   1.75000\n",
      "\n"
     ]
    }
   ],
   "source": [
    "d = derivative(0,4,8)"
   ]
  },
  {
   "cell_type": "code",
   "execution_count": 5,
   "metadata": {},
   "outputs": [
    {
     "name": "stdout",
     "output_type": "stream",
     "text": [
      "x =\n",
      "\n",
      "   0.00000   0.57143   1.14286   1.71429   2.28571   2.85714   3.42857   4.00000\n",
      "\n",
      "ans =\n",
      "\n",
      "   0.00000\n",
      "   0.57143\n",
      "   1.14286\n",
      "   1.71429\n",
      "   2.28571\n",
      "   2.85714\n",
      "   3.42857\n",
      "   4.00000\n",
      "\n",
      "ans =\n",
      "\n",
      "   1.00000\n",
      "   1.00000\n",
      "   1.00000\n",
      "   1.00000\n",
      "   1.00000\n",
      "   1.00000\n",
      "   1.00000\n",
      "   1.00000\n",
      "\n",
      "ans =\n",
      "\n",
      " Columns 1 through 7:\n",
      "\n",
      "   -0.50000   -1.00000   -1.00000   -1.00000   -1.00000   -1.00000   -4.50000\n",
      "\n",
      " Column 8:\n",
      "\n",
      "   10.00000\n",
      "\n",
      "ans =  16.000\n"
     ]
    }
   ],
   "source": [
    "x = linspace(0,4,8)         # (row) vector of length n storing domain of points between 0 and n-1\n",
    "x'                          # (column) vector obtained by taking the (complex) transpose of v with '\n",
    "d * x'                      # matrix product of square matrix e by column vector v' - results in column vector\n",
    "                            # Note that matrix product is * rather than @ in python\n",
    "                            # Note that element-wise product is .* rather than * in python\n",
    "x * d                       # matrix product of row vector v by square matrix e - results in row vector\n",
    "x * d * x'                  # matrix product of row vector v by square matrix e by column vector v' - results in single number (matrix with one element)"
   ]
  },
  {
   "cell_type": "markdown",
   "metadata": {},
   "source": [
    "## Plotting Example\n",
    "\n",
    "The python package ```matplotlib``` was based off MATLAB syntax for plotting, so plotting should look very familiar in MATLAB."
   ]
  },
  {
   "cell_type": "code",
   "execution_count": 6,
   "metadata": {},
   "outputs": [
    {
     "data": {
      "image/png": "[encoded data removed]"
     },
     "execution_count": 6,
     "metadata": {},
     "output_type": "execute_result"
    }
   ],
   "source": [
    "plot(x, d * x')\n",
    "title(\"Derivative of f(x) = x\")\n",
    "xlabel(\"x\")\n",
    "ylabel(\"f(x)\")\n",
    "legend(\"f\")"
   ]
  },
  {
   "cell_type": "code",
   "execution_count": 7,
   "metadata": {},
   "outputs": [
    {
     "data": {
      "image/png": "[encoded data removed]"
     },
     "execution_count": 7,
     "metadata": {},
     "output_type": "execute_result"
    }
   ],
   "source": [
    "x = linspace(-10, 10, 100);      # Define finer mesh for domain\n",
    "f = exp(-x.^2./2)./sqrt(2*pi);   # Define range as Gaussian - note vectorization works the same as numpy\n",
    "d = derivative(-10,10,100);      # Define derivative matrix to match domain mesh\n",
    "plot(x,f)                        # Plot range vs. domain\n",
    "hold()                           # Make next plots use the same figure\n",
    "plot(x, d*f')                    # Plot first derivative\n",
    "plot(x, d*d*f')                  # Plot second derivative\n",
    "legend(\"f\",\"df/dx\",\"d^2f/dx^2\")  # Add a legend - note that python could label each plot, but MATLAB cannot, so must explicitly label here\n",
    "title(\"Gaussian and Derivatives\")\n",
    "xlabel(\"x\")\n",
    "ylabel(\"g(x)\")"
   ]
  },
  {
   "cell_type": "code",
   "execution_count": 8,
   "metadata": {},
   "outputs": [
    {
     "data": {
      "image/png": "[encoded data removed]"
     },
     "execution_count": 8,
     "metadata": {},
     "output_type": "execute_result"
    }
   ],
   "source": [
    "plot(x,f)\n",
    "hold()\n",
    "g = f';\n",
    "for i = 1:4       # for loops work similarly to python (and are similarly slow) - instead of in, use =\n",
    "  g = d*g;\n",
    "  plot(x,g)\n",
    "end\n",
    "title(\"Gaussian and Derivatives\")\n",
    "xlabel(\"x\")\n",
    "ylabel(\"g(x)\")"
   ]
  },
  {
   "cell_type": "markdown",
   "metadata": {},
   "source": [
    "## Exercises\n",
    "\n",
    "Below are exercises you can do for your own benefit, if you would like to play with MATLAB and learn its differences from python.\n",
    "\n",
    "MATLAB play:\n",
    "\n",
    "1. Install and open MATLAB on your machine.\n",
    "1. Create a function file `derivative.m` containing the function definition above.\n",
    "1. Verify that the function works in the MATLAB interpreter, after the file exists.\n",
    "1. Create a script `plot_derivative.m` containing the rest of the code above.\n",
    "1. Verify that running the script produces all the output that you expect.\n",
    "1. Browse the extensive MATLAB help to get a feel for what else the language can do: https://www.mathworks.com/help\n",
    "\n",
    "Python play:\n",
    "\n",
    "1. Install Anaconda Python on your own machine, which includes everything you need from what we've learned in this course.\n",
    "1. Redo the above examples in python/numpy/matplotlib on your own computer, using the popular Spyder editor included in Anaconda. This editor is made deliberately similar to the MATLAB interface, if you like that style of productivity.\n"
   ]
  },
  {
   "cell_type": "code",
   "execution_count": null,
   "metadata": {},
   "outputs": [],
   "source": []
  }
 ],
 "metadata": {
  "kernelspec": {
   "display_name": "Octave",
   "language": "octave",
   "name": "octave"
  },
  "language_info": {
   "file_extension": ".m",
   "help_links": [
    {
     "text": "GNU Octave",
     "url": "https://www.gnu.org/software/octave/support.html"
    },
    {
     "text": "Octave Kernel",
     "url": "https://github.com/Calysto/octave_kernel"
    },
    {
     "text": "MetaKernel Magics",
     "url": "https://github.com/calysto/metakernel/blob/master/metakernel/magics/README.md"
    }
   ],
   "mimetype": "text/x-octave",
   "name": "octave",
   "version": "4.2.2"
  }
 },
 "nbformat": 4,
 "nbformat_minor": 1
}
